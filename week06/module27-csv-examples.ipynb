{
 "cells": [
  {
   "cell_type": "markdown",
   "metadata": {},
   "source": [
    "# Reading CSV Manually\n",
    "\n",
    "Data file from https://www2.census.gov/programs-surveys/popest/datasets/2010-2018/state/detail/"
   ]
  },
  {
   "cell_type": "code",
   "execution_count": null,
   "metadata": {},
   "outputs": [],
   "source": [
    "%%bash\n",
    "head est2018-pop-res.csv"
   ]
  },
  {
   "cell_type": "markdown",
   "metadata": {},
   "source": [
    "Hard way"
   ]
  },
  {
   "cell_type": "code",
   "execution_count": null,
   "metadata": {},
   "outputs": [],
   "source": [
    "with open('est2018-pop-res.csv') as csv:\n",
    "    line = csv.readline()\n",
    "    values = line.split(\",\")\n",
    "    print(values)"
   ]
  },
  {
   "cell_type": "code",
   "execution_count": null,
   "metadata": {},
   "outputs": [],
   "source": [
    "with open('est2018-pop-res.csv') as csv:\n",
    "    line = csv.readline().strip()\n",
    "    values = line.split(\",\")\n",
    "    print(values)"
   ]
  },
  {
   "cell_type": "code",
   "execution_count": null,
   "metadata": {},
   "outputs": [],
   "source": [
    "with open('est2018-pop-res.csv') as csv:\n",
    "    counter = 0\n",
    "    max_lines = 10\n",
    "    for line in csv:    \n",
    "        values = line.strip().split(\",\")\n",
    "        print(values)\n",
    "        counter += 1\n",
    "        if counter > max_lines:\n",
    "            break"
   ]
  },
  {
   "cell_type": "markdown",
   "metadata": {},
   "source": [
    "# Using the CSV Module"
   ]
  },
  {
   "cell_type": "code",
   "execution_count": null,
   "metadata": {},
   "outputs": [],
   "source": [
    "import csv"
   ]
  },
  {
   "cell_type": "code",
   "execution_count": null,
   "metadata": {},
   "outputs": [],
   "source": [
    "with open('est2018-pop-res.csv') as f:\n",
    "    csv_reader = csv.reader(f)\n",
    "    counter = 0\n",
    "    max_lines = 10\n",
    "    for row in csv_reader:\n",
    "        print(row)\n",
    "        counter += 1\n",
    "        if counter > max_lines:\n",
    "            break        "
   ]
  },
  {
   "cell_type": "code",
   "execution_count": null,
   "metadata": {},
   "outputs": [],
   "source": [
    "help(csv.reader)"
   ]
  },
  {
   "cell_type": "code",
   "execution_count": null,
   "metadata": {},
   "outputs": [],
   "source": [
    "%%bash\n",
    "head est2018-pop-res.psv"
   ]
  },
  {
   "cell_type": "code",
   "execution_count": null,
   "metadata": {},
   "outputs": [],
   "source": [
    "with open('est2018-pop-res.psv') as f:\n",
    "    csv_reader = csv.reader(f,delimiter='|')\n",
    "    counter = 0\n",
    "    max_lines = 10\n",
    "    for row in csv_reader:\n",
    "        print(row)\n",
    "        counter += 1\n",
    "        if counter > max_lines:\n",
    "            break        "
   ]
  },
  {
   "cell_type": "markdown",
   "metadata": {},
   "source": [
    "# Using Pandas\n",
    "\n",
    "Note that we typically import pandas as pd, giving it a shorter alias name."
   ]
  },
  {
   "cell_type": "code",
   "execution_count": null,
   "metadata": {},
   "outputs": [],
   "source": [
    "import pandas as pd"
   ]
  },
  {
   "cell_type": "code",
   "execution_count": null,
   "metadata": {},
   "outputs": [],
   "source": [
    "data = pd.read_csv('est2018-pop-res.csv')\n",
    "data.head()"
   ]
  },
  {
   "cell_type": "code",
   "execution_count": null,
   "metadata": {},
   "outputs": [],
   "source": []
  },
  {
   "cell_type": "markdown",
   "metadata": {},
   "source": [
    "# Something Practical:\n",
    "\n",
    "### Sum up all the state populations to see if they match the total for the US\n",
    "\n",
    "**Algorithm:**\n",
    "\n",
    "When can see that the field `SUMLEV` tells us if this row is for the total US population (`SUMLEV` = `010`) or for a single state (`SUMLEV` = `040`)\n",
    "\n",
    "We'll read the file using the CSV reader.\n",
    "\n",
    "Loop through the file.  If the row has the `SUMLEV` = `'010'` then remember that as the total population.  If the row has the `SUMLEV` = `'040'` then keep a running total of state population."
   ]
  },
  {
   "cell_type": "code",
   "execution_count": null,
   "metadata": {},
   "outputs": [],
   "source": [
    "import csv"
   ]
  },
  {
   "cell_type": "code",
   "execution_count": null,
   "metadata": {},
   "outputs": [],
   "source": [
    "total_us = 0\n",
    "total_states = 0\n",
    "\n",
    "with open('est2018-pop-res.csv') as f:\n",
    "    r = csv.reader(f)\n",
    "    next(r, None) # skips the header\n",
    "    for line in r:\n",
    "        sumlev = line[0]\n",
    "        popestimate = line[5]\n",
    "        if sumlev == '010':\n",
    "            total_us = int(popestimate)\n",
    "        elif sumlev == '040':\n",
    "            total_states += int(popestimate)\n",
    "\n",
    "print(\"Total US Population was      {}\".format(total_us))\n",
    "print(\"Sum of State Populations was {}\".format(total_states))"
   ]
  },
  {
   "cell_type": "code",
   "execution_count": null,
   "metadata": {},
   "outputs": [],
   "source": []
  }
 ],
 "metadata": {
  "kernelspec": {
   "display_name": "Python 3",
   "language": "python",
   "name": "python3"
  },
  "language_info": {
   "codemirror_mode": {
    "name": "ipython",
    "version": 3
   },
   "file_extension": ".py",
   "mimetype": "text/x-python",
   "name": "python",
   "nbconvert_exporter": "python",
   "pygments_lexer": "ipython3",
   "version": "3.6.7"
  }
 },
 "nbformat": 4,
 "nbformat_minor": 2
}
